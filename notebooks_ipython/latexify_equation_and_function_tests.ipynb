{
 "cells": [
  {
   "cell_type": "code",
   "execution_count": 41,
   "metadata": {},
   "outputs": [],
   "source": [
    "import latexify\n",
    "import math\n",
    "import numpy as np"
   ]
  },
  {
   "cell_type": "code",
   "execution_count": 42,
   "metadata": {},
   "outputs": [
    {
     "data": {
      "text/latex": [
       "$$ \\displaystyle \\mathrm{sigmoid}(z) = \\frac{1}{1 + \\exp \\mathopen{}\\left( -z \\mathclose{}\\right)} $$"
      ],
      "text/plain": [
       "<latexify.ipython_wrappers.LatexifiedFunction at 0x221c088b490>"
      ]
     },
     "execution_count": 42,
     "metadata": {},
     "output_type": "execute_result"
    }
   ],
   "source": [
    "@latexify.function(use_math_symbols=True)\n",
    "def sigmoid(z):\n",
    "    return 1 / (1 + np.exp(-z))\n",
    "\n",
    "\n",
    "sigmoid"
   ]
  },
  {
   "cell_type": "code",
   "execution_count": 43,
   "metadata": {},
   "outputs": [
    {
     "data": {
      "text/latex": [
       "$$ \\displaystyle \\begin{array}{l} S = H P H.T + R \\\\ K = P H.T \\cdot \\mathbf{S}^{+} \\\\ y = z - H x \\\\ x = x + K y \\\\ P = \\mathopen{}\\left( \\mathrm{np}.\\mathrm{eye} \\mathopen{}\\left( 6 \\mathclose{}\\right) - K H \\mathclose{}\\right) P \\\\ \\mathrm{kalman\\_correction}(H, R, x, z, P) = \\mathopen{}\\left( x, P \\mathclose{}\\right) \\end{array} $$"
      ],
      "text/plain": [
       "<latexify.ipython_wrappers.LatexifiedFunction at 0x221c08bb880>"
      ]
     },
     "execution_count": 43,
     "metadata": {},
     "output_type": "execute_result"
    }
   ],
   "source": [
    "@latexify.function(use_math_symbols=True)\n",
    "def kalman_correction(H, R, x, z, P):\n",
    "\n",
    "    S = H @ P @ H.T + R\n",
    "    K = P @ H.T @ np.linalg.pinv(S)\n",
    "    y = z - H @ x\n",
    "    x = x + K @ y\n",
    "    P = (np.eye(6) - K @ H) @ P\n",
    "    return x, P\n",
    "\n",
    "\n",
    "kalman_correction"
   ]
  },
  {
   "cell_type": "code",
   "execution_count": 60,
   "metadata": {},
   "outputs": [
    {
     "data": {
      "text/latex": [
       "$$ \\displaystyle \\begin{array}{l} k = \\Sigma.\\mathrm{shape}_{0} \\\\ \\mathrm{denom} = \\sqrt{ \\det \\mathopen{}\\left( \\mathbf{Sigma} \\mathclose{}\\right) \\cdot \\mathopen{}\\left( 2 \\mathrm{math}.\\pi \\mathclose{}\\right)^{k} } \\\\ \\mathrm{mahal\\_dist} = \\mathopen{}\\left( x - \\mu \\mathclose{}\\right) \\mathbf{Sigma}^{+} x - \\mu.T \\\\ \\mathrm{prob} = \\frac{\\exp \\mathopen{}\\left( -0.5 \\mathrm{mahal\\_dist} \\mathclose{}\\right)}{\\mathrm{denom}} \\\\ \\mathrm{membership\\_prob}(x, \\mu, \\Sigma) = \\mathrm{prob} \\end{array} $$"
      ],
      "text/plain": [
       "<latexify.ipython_wrappers.LatexifiedFunction at 0x221c08b8ca0>"
      ]
     },
     "execution_count": 60,
     "metadata": {},
     "output_type": "execute_result"
    }
   ],
   "source": [
    "@latexify.function(use_math_symbols=True, reduce_assignments=False)\n",
    "def membership_prob(x, mu, Sigma):\n",
    "\n",
    "    k = Sigma.shape[0]\n",
    "    denom = np.sqrt(np.linalg.det(Sigma) * (2 * math.pi) ** k)\n",
    "    mahal_dist = ((x - mu) @ np.linalg.pinv(Sigma)) @ (x - mu).T\n",
    "    prob = math.exp(-0.5 * mahal_dist) / denom\n",
    "    return prob\n",
    "\n",
    "\n",
    "membership_prob"
   ]
  }
 ],
 "metadata": {
  "kernelspec": {
   "display_name": "jlb_dev",
   "language": "python",
   "name": "python3"
  },
  "language_info": {
   "codemirror_mode": {
    "name": "ipython",
    "version": 3
   },
   "file_extension": ".py",
   "mimetype": "text/x-python",
   "name": "python",
   "nbconvert_exporter": "python",
   "pygments_lexer": "ipython3",
   "version": "3.10.16"
  }
 },
 "nbformat": 4,
 "nbformat_minor": 2
}
