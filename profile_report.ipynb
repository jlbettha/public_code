{
 "cells": [
  {
   "cell_type": "markdown",
   "id": "315a22b0",
   "metadata": {},
   "source": [
    "### Imports"
   ]
  },
  {
   "cell_type": "code",
   "execution_count": null,
   "id": "b8e81cca",
   "metadata": {},
   "outputs": [],
   "source": [
    "import numpy as np\n",
    "import shap\n",
    "import matplotlib.pyplot as plt\n",
    "import pandas as pd\n",
    "import ydata_profiling as yp\n",
    "\n",
    "from sklearn.ensemble import RandomForestRegressor\n",
    "from sklearn.inspection import permutation_importance\n",
    "from sklearn.feature_selection import RFE\n",
    "from xgboost import XGBRegressor\n",
    "from collections import Counter\n",
    "\n",
    "import os\n",
    "import sys\n",
    "import json\n",
    "from sklearn.decomposition import PCA\n",
    "from sklearn.preprocessing import MinMaxScaler\n",
    "from sklearn.model_selection import cross_val_score, train_test_split\n",
    "from sklearn.manifold import TSNE\n",
    "from scipy.stats import linregress\n",
    "\n",
    "NO_INFERENCE_METRICS = [\n",
    "    \"shape_x\",\n",
    "    \"shape_y\",\n",
    "    \"shape_z\",\n",
    "    \"noise\",\n",
    "    \"blur\",\n",
    "    \"edge_strength\",\n",
    "    \"snr\",\n",
    "    \"variance\",\n",
    "    \"otsu\",\n",
    "    \"entropy\",\n",
    "    \"haziness\",  # \"haziness2\", \"weber_contrast\",\n",
    "    # \"vol_true\",\n",
    "    # \"axis_major_length\",\n",
    "    # \"axis_minor_length\",\n",
    "    # \"extent\",\n",
    "    \"intensity_max\",\n",
    "    \"intensity_mean\",\n",
    "    \"intensity_min\",\n",
    "    # \"intensity_std\",\n",
    "    # \"intensity_diff\",\n",
    "    # \"orientation\",\n",
    "    # \"perimeter\",\n",
    "    # \"solidity\",\n",
    "]\n",
    "\n",
    "plt.rcParams[\"font.family\"] = [\"sans-serif\"]"
   ]
  },
  {
   "cell_type": "markdown",
   "id": "59a7770b",
   "metadata": {},
   "source": [
    "### Load segmentation metrics report"
   ]
  },
  {
   "cell_type": "code",
   "execution_count": null,
   "id": "b0654f47",
   "metadata": {},
   "outputs": [],
   "source": [
    "pwd = os.getcwd()\n",
    "\n",
    "\n",
    "df2 = pd.read_excel(os.path.join(pwd, \"generic_dataset.xlsx\"))\n",
    "# df_all = pd.concat([df, df2])\n",
    "df_all = df2.copy()\n",
    "\n",
    "# Handling missing values\n",
    "df_all.fillna(0, inplace=True)\n",
    "\n",
    "# Removing duplicate rows\n",
    "# df_all.drop_duplicates(inplace=True)\n",
    "df_all.infer_objects()"
   ]
  },
  {
   "cell_type": "markdown",
   "id": "804cd420",
   "metadata": {},
   "source": [
    "### Compute metric report statistics"
   ]
  },
  {
   "cell_type": "code",
   "execution_count": null,
   "id": "fc4216a2",
   "metadata": {},
   "outputs": [],
   "source": [
    "# Calculating summary statistics\n",
    "# summary_stats = df_all.describe().T\n",
    "# summary_stats.to_excel(\"results/metric_stats_report.xlsx\")\n",
    "# df_all.describe().T"
   ]
  },
  {
   "cell_type": "markdown",
   "id": "badb1df0",
   "metadata": {},
   "source": [
    "### Strip data down to pre-inference features only"
   ]
  },
  {
   "cell_type": "code",
   "execution_count": null,
   "id": "f85226d4",
   "metadata": {},
   "outputs": [],
   "source": [
    "df_all = df_all.drop([\"id\", \"balanced_accuracy\", \"iou_jaccard\"], axis=1)\n",
    "df_all = df_all.drop([\"tn\", \"tp\", \"fn\", \"fp\", \"tpr\", \"fnr\", \"fpr\", \"ssim\"], axis=1)\n",
    "df_all = df_all.drop([\"tnr\", \"ppv\", \"npv\", \"f1\", \"accuracy\"], axis=1)\n",
    "df_all = df_all.drop([\"area\", \"area_bbox\"], axis=1)\n",
    "df_all.head()"
   ]
  },
  {
   "cell_type": "markdown",
   "id": "a0509bfb",
   "metadata": {},
   "source": [
    "### Feature numpy stacking and scaling"
   ]
  },
  {
   "cell_type": "code",
   "execution_count": null,
   "id": "e28a319a",
   "metadata": {},
   "outputs": [],
   "source": [
    "features = []\n",
    "feature_names = []\n",
    "yscores = df_all[\"dice\"].to_numpy()\n",
    "# ymean = np.mean(yscores)\n",
    "# yscores = 1*(yscores>ymean)\n",
    "for col in df_all.columns:\n",
    "    if col in NO_INFERENCE_METRICS:\n",
    "        if df_all[col].dtype == \"object\":\n",
    "            df_all[col] = df_all[col].astype(\"category\")\n",
    "            df_all[col] = df_all[col].cat.codes.astype(np.uint8)\n",
    "            df2[col + \"_code\"] = df_all[col]\n",
    "        feature_names.append(col)\n",
    "        features.append(df_all[col].to_numpy())\n",
    "\n",
    "df2.to_excel(\"generic_dataset_final_features.xlsx\", index=False)\n",
    "feature_names = dict(enumerate(feature_names))\n",
    "Xfeatures = np.array(features).T\n",
    "print(Xfeatures.shape, yscores.shape)\n",
    "\n",
    "Xfeatures = np.nan_to_num(Xfeatures, nan=0.0, posinf=0.0, neginf=0.0)\n",
    "Xfeatures_unscaled = Xfeatures.copy()\n",
    "Xfeatures = MinMaxScaler().fit_transform(Xfeatures)\n",
    "\n",
    "df_minmax = pd.DataFrame(Xfeatures, columns=feature_names.values())\n",
    "\n",
    "print(feature_names.values())"
   ]
  },
  {
   "cell_type": "markdown",
   "id": "ed4e1525",
   "metadata": {},
   "source": [
    "### PCA"
   ]
  },
  {
   "cell_type": "code",
   "execution_count": null,
   "id": "895e3026",
   "metadata": {},
   "outputs": [],
   "source": [
    "pca = PCA(n_components=2)\n",
    "pca_features = pca.fit_transform(Xfeatures)\n",
    "print(pca.explained_variance_ratio_)\n",
    "print(pca.singular_values_)\n",
    "plt.scatter(pca_features[:, 0], pca_features[:, 1], c=yscores, cmap=\"plasma\", alpha=0.8, s=12)\n",
    "plt.xlabel(\"PCA projection 1\")\n",
    "plt.ylabel(\"PCA projection 2\")\n",
    "plt.colorbar()\n",
    "plt.pause(0.001)"
   ]
  },
  {
   "cell_type": "markdown",
   "id": "d9e3f6db",
   "metadata": {},
   "source": [
    "### t-SNE"
   ]
  },
  {
   "cell_type": "code",
   "execution_count": null,
   "id": "576e8ad5",
   "metadata": {},
   "outputs": [],
   "source": [
    "tsne = TSNE(n_components=2, perplexity=30.0, early_exaggeration=12.0, max_iter=2000, min_grad_norm=1e-07, init=\"random\")  # , init='pca')\n",
    "tsne_features = tsne.fit_transform(Xfeatures)\n",
    "\n",
    "fig, ax = plt.subplots()\n",
    "sc = plt.scatter(tsne_features[:, 0], tsne_features[:, 1], c=yscores, cmap=\"plasma\", alpha=0.8, s=12)\n",
    "plt.xlabel(\"t-SNE embedding 1\")\n",
    "plt.ylabel(\"t-SNE embedding 2\")\n",
    "plt.colorbar()\n",
    "\n",
    "plt.pause(0.001)"
   ]
  },
  {
   "cell_type": "markdown",
   "id": "3a6a0b75",
   "metadata": {},
   "source": [
    "### Random forest feature importance"
   ]
  },
  {
   "cell_type": "code",
   "execution_count": null,
   "id": "62afc7e8",
   "metadata": {},
   "outputs": [],
   "source": [
    "rf_model = RandomForestRegressor()\n",
    "rf_model.fit(Xfeatures, yscores)\n",
    "rf_train = rf_model.score(Xfeatures, yscores)\n",
    "rf_cv = cross_val_score(rf_model, Xfeatures, yscores, cv=10).mean()\n",
    "\n",
    "print(f\"Random Forest training score: {np.round(rf_train, 4)}\")\n",
    "print(f\"Random Forest cross validation score: {np.round(rf_cv, 4)}\")\n",
    "\n",
    "importances = rf_model.feature_importances_\n",
    "stds = np.var([m.feature_importances_ for m in rf_model.estimators_], axis=0)\n",
    "rf_importance_df = pd.DataFrame({\"Feature\": feature_names.values(), \"Importance\": importances})\n",
    "rf_importance_df.sort_values(by=\"Importance\", ascending=False, inplace=True)\n",
    "\n",
    "print(\"Random Forest Top 7 Features:\")\n",
    "for i, (_, f) in enumerate(rf_importance_df[\"Feature\"].head(7).items()):\n",
    "    print(i + 1, f)\n",
    "\n",
    "plt.bar(rf_importance_df[\"Feature\"], rf_importance_df[\"Importance\"], yerr=stds)\n",
    "plt.xticks(rotation=90)\n",
    "# plt.title(\"Random Forest Feature Importance\")\n",
    "plt.xlabel(\"Feature\")\n",
    "plt.ylabel(\"Random Forest Feature Importance\")\n",
    "plt.pause(0.001)"
   ]
  },
  {
   "cell_type": "markdown",
   "id": "a22d390e",
   "metadata": {},
   "source": [
    "### Can these features predict dice score outcome?"
   ]
  },
  {
   "cell_type": "code",
   "execution_count": null,
   "id": "6174088c",
   "metadata": {},
   "outputs": [],
   "source": [
    "pred = rf_model.predict(Xfeatures)\n",
    "m, b, r_value, p_value, std_err = linregress(yscores, pred)\n",
    "eq = f\"$y = {m:.3f}x + {b:.3f}$\"\n",
    "r_squared = f\"$R^2 = {r_value**2:.3f}$\"\n",
    "\n",
    "plt.scatter(yscores, pred, s=12)\n",
    "plt.plot(yscores, m * yscores + b, c=\"red\", linestyle=\":\", label=eq + \"\\n\" + r_squared)\n",
    "plt.xlabel(\"Actual Dice\")\n",
    "plt.ylabel(\"Feature-inferred Dice\")\n",
    "plt.title(\"Feature-inferred Dice vs Actual Dice\")\n",
    "plt.legend()\n",
    "plt.pause(0.001)"
   ]
  },
  {
   "cell_type": "markdown",
   "id": "ba5007d7",
   "metadata": {},
   "source": [
    "### Recursive Feature elimination (RFE) feature importance"
   ]
  },
  {
   "cell_type": "code",
   "execution_count": null,
   "id": "fde073fa",
   "metadata": {},
   "outputs": [],
   "source": [
    "used = []\n",
    "for x in range(Xfeatures.shape[1]):\n",
    "    selector = RFE(rf_model, n_features_to_select=x + 1, step=1)\n",
    "    selector = selector.fit(Xfeatures, yscores)\n",
    "\n",
    "    selected_features = [feature_names[i] for i in range(len(feature_names)) if selector.support_[i] and feature_names[i] not in used]\n",
    "    used.append(selected_features[0])\n",
    "    print(f\"top {x + 1} features: {selected_features}\")\n",
    "    # print(\"Recursive Feature elimination (RFE) Top 15 Features:\")\n",
    "    # for i in range(15):\n",
    "    #     print(selected_features[i])\n",
    "print(used)\n",
    "rfe_importance_df = pd.DataFrame({\"Feature\": used, \"Importance\": range(len(used), 0, -1)})\n",
    "rfe_importance_df.sort_values(by=\"Importance\", ascending=False, inplace=True)\n",
    "plt.bar(rfe_importance_df[\"Feature\"], rfe_importance_df[\"Importance\"])\n",
    "plt.xticks(rotation=90)\n",
    "plt.xlabel(\"Feature\")\n",
    "plt.ylabel(\"RFE Feature Importance\")\n",
    "plt.pause(0.001)"
   ]
  },
  {
   "cell_type": "markdown",
   "id": "c4517ab8",
   "metadata": {},
   "source": [
    "### Permutation feature importance"
   ]
  },
  {
   "cell_type": "code",
   "execution_count": null,
   "id": "52504aa9",
   "metadata": {},
   "outputs": [],
   "source": [
    "presults = permutation_importance(rf_model, Xfeatures, yscores, n_repeats=30)\n",
    "\n",
    "perm_importance_df = pd.DataFrame({\"Feature\": feature_names.values(), \"Importance\": presults.importances_mean})\n",
    "perm_importance_df.sort_values(by=\"Importance\", ascending=False, inplace=True)\n",
    "\n",
    "print(\"Permutation Top 15 Features:\")\n",
    "for i, (_, f) in enumerate(perm_importance_df[\"Feature\"].head(15).items()):\n",
    "    print(i + 1, f)\n",
    "\n",
    "plt.bar(perm_importance_df[\"Feature\"], perm_importance_df[\"Importance\"], yerr=presults.importances_std)\n",
    "plt.xticks(rotation=90)\n",
    "plt.xlabel(\"Feature\")\n",
    "plt.ylabel(\"Permutation Feature Importance\")\n",
    "# plt.title('Permutation Feature Importance')\n",
    "plt.pause(0.001)"
   ]
  },
  {
   "cell_type": "markdown",
   "id": "ebdff615",
   "metadata": {},
   "source": [
    "### XGBoost feature importance"
   ]
  },
  {
   "cell_type": "code",
   "execution_count": null,
   "id": "61b59945",
   "metadata": {},
   "outputs": [],
   "source": [
    "xgb_model = XGBRegressor()\n",
    "xgb_model.fit(Xfeatures, yscores)\n",
    "\n",
    "importances = xgb_model.feature_importances_\n",
    "xg_importance_df = pd.DataFrame({\"Feature\": feature_names.values(), \"Importance\": importances})\n",
    "xg_importance_df.sort_values(by=\"Importance\", ascending=False, inplace=True)\n",
    "\n",
    "print(\"XGBoost Top 15 Features:\")\n",
    "for i, (_, f) in enumerate(xg_importance_df[\"Feature\"].head(15).items()):\n",
    "    print(i + 1, f)\n",
    "\n",
    "plt.bar(xg_importance_df[\"Feature\"], xg_importance_df[\"Importance\"])\n",
    "plt.xticks(rotation=90)\n",
    "# plt.title(\"XGBoost Feature Importance\")\n",
    "plt.xlabel(\"XGBoost Feature Importance\")\n",
    "plt.ylabel(\"Importance\")\n",
    "plt.pause(0.001)"
   ]
  },
  {
   "cell_type": "markdown",
   "id": "dee75ab4",
   "metadata": {},
   "source": [
    "### SHAP feature importance"
   ]
  },
  {
   "cell_type": "code",
   "execution_count": null,
   "id": "55bea803",
   "metadata": {},
   "outputs": [],
   "source": [
    "# np.obj2sctype =  lambda obj: np.dtype(obj).type\n",
    "shap.initjs()\n",
    "\n",
    "explainer = shap.Explainer(xgb_model)\n",
    "shap_df = pd.DataFrame(Xfeatures, columns=list(feature_names.values()))\n",
    "\n",
    "# shap bee-swarm plot\n",
    "shap_test = explainer(shap_df)\n",
    "shap_importance_df = shap_df.apply(np.abs).mean().sort_values(ascending=False)\n",
    "print(shap_importance_df.head())\n",
    "shap.plots.beeswarm(shap_values=shap_test, max_display=15)\n",
    "\n",
    "# shap force plot\n",
    "explainer = shap.TreeExplainer(xgb_model)\n",
    "shap_values = explainer.shap_values(Xfeatures)\n",
    "shap.force_plot(explainer.expected_value, shap_values[0, :], list(feature_names.values()))"
   ]
  },
  {
   "cell_type": "code",
   "execution_count": null,
   "id": "eba00976",
   "metadata": {},
   "outputs": [],
   "source": [
    "ordered_importance_dicts = []\n",
    "for df in rf_importance_df, rfe_importance_df, perm_importance_df, xg_importance_df:\n",
    "    ordered_importance_dicts.append(dict(enumerate(list(df[\"Feature\"]), start=1)))\n",
    "\n",
    "feature_dict = dict(zip(feature_names.values(), np.zeros(len(feature_names))))\n",
    "for d in ordered_importance_dicts:\n",
    "    for name in feature_dict.keys():\n",
    "        feature_dict[name] += list(d.keys())[list(d.values()).index(name)]\n",
    "\n",
    "sorted_feature_dict = dict(sorted(feature_dict.items(), key=lambda item: item[1]))\n",
    "\n",
    "sorted_features = list(sorted_feature_dict.keys())\n",
    "print(\"Overall Top 7 Features:\")\n",
    "for i, feat in enumerate(sorted_features[:7]):\n",
    "    print(i + 1, feat)"
   ]
  },
  {
   "cell_type": "code",
   "execution_count": null,
   "id": "3b531638",
   "metadata": {},
   "outputs": [],
   "source": [
    "N = 5\n",
    "for i, feat in enumerate(sorted_features[:N]):\n",
    "    print(i + 1, feat)\n",
    "    plt.figure(figsize=(10, 5))\n",
    "    if feat not in [\"categorical1\", \"categorical1\"]:  # if column data is numeric\n",
    "        if \"int\" in str(df2[feat].dtype):\n",
    "            this_df = df2.copy()\n",
    "            quant_df = this_df[feat].quantile([0.5])  # [0.25, 0.5, 0.75])\n",
    "            # quant_df = this_df[feat].quantile([0.333, 0.667]) #[0.25, 0.5, 0.75])\n",
    "            # quant_df[0.5] = (this_df[feat].max()-this_df[feat].min())/2\n",
    "            # quant_df[0.25] = (quant_df[0.5] - this_df[feat].min())/2\n",
    "            # quant_df[0.75] = (quant_df[0.5] + this_df[feat].max())/2\n",
    "            quant_df = quant_df.astype(int)\n",
    "        if \"float\" in str(df2[feat].dtype):\n",
    "            this_df = df2.copy()\n",
    "            quant_df = this_df[feat].quantile([0.5])  # [0.25, 0.5, 0.75])\n",
    "            # quant_df = this_df[feat].quantile([0.333, 0.667]) #[0.25, 0.5, 0.75])\n",
    "            # quant_df[0.5] = (this_df[feat].max()-this_df[feat].min())/2\n",
    "            # quant_df[0.25] = (quant_df[0.5] - this_df[feat].min())/2\n",
    "            # quant_df[0.75] = (quant_df[0.5] + this_df[feat].max())/2\n",
    "\n",
    "        # data_ranges = [(-1e100, quant_df[0.25]), (quant_df[0.25], quant_df[0.5]), (quant_df[0.5], quant_df[0.75]), (quant_df[0.75], 1e100)]\n",
    "        data_ranges = [(-1e100, quant_df[0.5]), (quant_df[0.5], 1e100)]\n",
    "        # data_ranges = [(-1e100, quant_df[0.333]), (quant_df[0.333], quant_df[0.667]), (quant_df[0.667], 1e100)]\n",
    "\n",
    "        if \"float\" in str(df2[feat].dtype):\n",
    "            quant_df = quant_df.round(3)\n",
    "        # labels = [f\"≤ Q1:\\n{quant_df[0.25]}\", f\"Q1-Q2:\\n({quant_df[0.25]}, {quant_df[0.5]}]\", f\"Q2-Q3:\\n({quant_df[0.5]}, {quant_df[0.75]}]\", f\"> Q3:\\n{quant_df[0.75]}\"]\n",
    "        labels = [f\"≤ Q2:\\n{quant_df[0.5]}\", f\"> Q2:\\n{quant_df[0.5]}\"]\n",
    "        # labels = [f\"≤ q1/3:\\n{quant_df[0.333]}\", f\"q1/3-q2/3:\\n({quant_df[0.333]}, {quant_df[0.667]}]\", f\"> q2/3:\\n{quant_df[0.667]}\"]\n",
    "        data_groups = []\n",
    "        df2[feat + \"_code\"] = np.nan\n",
    "        for jj in range(len(labels)):\n",
    "            this_range = data_ranges[jj]\n",
    "            data_block = (this_df[feat] <= this_range[1]) * (this_df[feat] > this_range[0])\n",
    "            data_groups.append(list(df2[\"dice\"][data_block]))\n",
    "            df2.loc[df2.index[data_block].tolist(), feat + \"_code\"] = int(jj + 1)\n",
    "\n",
    "        plt.subplot(1, 2, 1)\n",
    "        plt.boxplot(data_groups, tick_labels=labels, showmeans=True)\n",
    "        plt.xticks(rotation=90)\n",
    "        plt.title(f\"{feat}, rank {i + 1}\")\n",
    "        plt.ylabel(\"Dice\")\n",
    "\n",
    "        plt.subplot(1, 2, 2)\n",
    "        plt.bar(labels, [len(g) for g in data_groups])\n",
    "        plt.ylabel(\"Count\")\n",
    "        plt.xticks(rotation=90)\n",
    "        plt.title(f\"{feat}, rank {i + 1}\")\n",
    "        plt.pause(0.001)\n",
    "\n",
    "    else:  # if column data is non-numeric \"object\"\n",
    "        labels = []\n",
    "        data_groups = []\n",
    "        # case_groups = []\n",
    "\n",
    "        df2[feat] = df2[feat].fillna(\"Unknown\")\n",
    "        # print( np.unique(df2[feat]) )\n",
    "        df2[feat + \"_code\"] = np.nan\n",
    "        for jj, val in enumerate(np.unique(df2[feat])):\n",
    "            labels.append(val)\n",
    "            data_groups.append(list(df2[\"dice\"][df2[feat] == val]))\n",
    "            df2.loc[df2.index[df2[feat] == val].tolist(), feat + \"_code\"] = int(jj + 1)\n",
    "\n",
    "        plt.subplot(1, 2, 1)\n",
    "        plt.boxplot(data_groups, tick_labels=labels, showmeans=True)\n",
    "        plt.xticks(rotation=90)\n",
    "        plt.title(f\"{feat}, rank {i + 1}\")\n",
    "        plt.ylabel(\"Dice\")\n",
    "\n",
    "        plt.subplot(1, 2, 2)\n",
    "        plt.bar(labels, [len(g) for g in data_groups])\n",
    "        plt.ylabel(\"Count\")\n",
    "        plt.xticks(rotation=90)\n",
    "        plt.title(f\"{feat}, rank {i + 1}\")\n",
    "        plt.pause(0.001)\n",
    "\n",
    "top_n = [sorted_features[n] + \"_code\" for n in range(N)]\n",
    "code_array = df2[top_n].to_numpy()  # .astype(int)\n",
    "\n",
    "\n",
    "final_codes = []\n",
    "for row in range(code_array.shape[0]):\n",
    "    code = 0\n",
    "    for i, val in enumerate(code_array[row, :]):\n",
    "        code += val * (10 ** (N - i - 1))\n",
    "    final_codes.append(int(code))\n",
    "df2[\"final_code\"] = final_codes\n",
    "\n",
    "df2.to_excel(\"generic_dataset_final_features_coded.xlsx\", index=False)"
   ]
  },
  {
   "cell_type": "markdown",
   "id": "1c3f7226",
   "metadata": {},
   "source": [
    "### Train/test/val split based on stratification"
   ]
  },
  {
   "cell_type": "code",
   "execution_count": null,
   "id": "27166087",
   "metadata": {},
   "outputs": [],
   "source": [
    "dff = pd.read_excel(\"generic_dataset_final_features_coded.xlsx\")\n",
    "\n",
    "code_counts = Counter(final_codes)\n",
    "# print(code_counts)\n",
    "low_counts = [code for code, count in code_counts.items() if count <= 3]\n",
    "\n",
    "# print(low_counts)\n",
    "for i, item in enumerate(dff[\"final_code\"]):\n",
    "    if item in low_counts:\n",
    "        dff.loc[i, \"final_code\"] = int(\"\".join(map(str, [N] * N)))\n",
    "\n",
    "final_codes = dff[\"final_code\"].to_list()\n",
    "code_counts = Counter(final_codes)\n",
    "print(code_counts)\n",
    "\n",
    "data_len = dff.shape[0]\n",
    "test_len = 0.14 * data_len\n",
    "val_len = 0.08 * data_len\n",
    "X_temp, X_test, y_temp, y_test = train_test_split(dff, dff[\"final_code\"], test_size=test_len / data_len, random_state=42, stratify=dff[\"final_code\"])\n",
    "\n",
    "X_train, X_val, y_train, y_val = train_test_split(X_temp, y_temp, test_size=val_len / (data_len - test_len), random_state=42, stratify=y_temp)\n",
    "\n",
    "del X_temp, y_temp, dff\n",
    "print(\"TRAIN\", X_train.shape, y_train.shape)\n",
    "print(\"VAL\", X_val.shape, y_val.shape)\n",
    "print(\"TEST\", X_test.shape, y_test.shape)\n",
    "\n",
    "dataset_dict = {}\n",
    "for df, name in zip([X_train, X_val, X_test], [\"train\", \"validation\", \"test\"]):\n",
    "    cases = df[\"id\"].to_list()\n",
    "    data_list = []\n",
    "    for c in cases:\n",
    "        case_dict = {\"image\": f\"/data/images/{c}.mha\", \"label\": f\"/data/labels/{c}.seg.nrrd\"}\n",
    "        data_list.append(case_dict)\n",
    "    dataset_dict[name] = data_list\n",
    "\n",
    "with open(\"generic_dataset_stratified_data_splits.json\", \"w\") as f:\n",
    "    json.dump(dataset_dict, f, indent=2)"
   ]
  },
  {
   "cell_type": "markdown",
   "id": "7e020dc1",
   "metadata": {},
   "source": [
    "### Generate Feature Profile Report"
   ]
  },
  {
   "cell_type": "code",
   "execution_count": null,
   "id": "02be7b22",
   "metadata": {},
   "outputs": [],
   "source": [
    "sys.exit()\n",
    "report = yp.ProfileReport(\n",
    "    df_all,\n",
    "    title=\"<ML Task/Project name> Profiling Report\",\n",
    "    dataset={\n",
    "        \"description\": \"This profiling report was generated using ...\",\n",
    "        \"model\": \"path/to/model.pth\",\n",
    "        \"author\": \"Jim Bob\",\n",
    "        \"copyright_holder\": \"Jim Bob\",\n",
    "        \"copyright_year\": 2025,\n",
    "    },\n",
    "    explorative=True,\n",
    ")\n",
    "\n",
    "report.config.interactions.targets = [\"dice\"]\n",
    "report.to_file(\"Generic_dataset_project_name_Profiling_Report_Final.html\")\n",
    "report"
   ]
  }
 ],
 "metadata": {
  "kernelspec": {
   "display_name": ".venv",
   "language": "python",
   "name": "python3"
  },
  "language_info": {
   "codemirror_mode": {
    "name": "ipython",
    "version": 3
   },
   "file_extension": ".py",
   "mimetype": "text/x-python",
   "name": "python",
   "nbconvert_exporter": "python",
   "pygments_lexer": "ipython3",
   "version": "3.12.3"
  }
 },
 "nbformat": 4,
 "nbformat_minor": 5
}
